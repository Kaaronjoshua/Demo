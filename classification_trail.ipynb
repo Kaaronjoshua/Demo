{
 "cells": [
  {
   "cell_type": "code",
   "execution_count": 54,
   "id": "e4565778",
   "metadata": {},
   "outputs": [],
   "source": [
    "import pandas as pd"
   ]
  },
  {
   "cell_type": "code",
   "execution_count": 55,
   "id": "131b252b",
   "metadata": {},
   "outputs": [],
   "source": [
    "df=pd.read_csv('Heart(1).csv')"
   ]
  },
  {
   "cell_type": "code",
   "execution_count": 56,
   "id": "d6017c75",
   "metadata": {},
   "outputs": [
    {
     "data": {
      "text/html": [
       "<div>\n",
       "<style scoped>\n",
       "    .dataframe tbody tr th:only-of-type {\n",
       "        vertical-align: middle;\n",
       "    }\n",
       "\n",
       "    .dataframe tbody tr th {\n",
       "        vertical-align: top;\n",
       "    }\n",
       "\n",
       "    .dataframe thead th {\n",
       "        text-align: right;\n",
       "    }\n",
       "</style>\n",
       "<table border=\"1\" class=\"dataframe\">\n",
       "  <thead>\n",
       "    <tr style=\"text-align: right;\">\n",
       "      <th></th>\n",
       "      <th>Age</th>\n",
       "      <th>Sex</th>\n",
       "      <th>ChestPainType</th>\n",
       "      <th>RestingBP</th>\n",
       "      <th>Cholesterol</th>\n",
       "      <th>FastingBS</th>\n",
       "      <th>RestingECG</th>\n",
       "      <th>MaxHR</th>\n",
       "      <th>ExerciseAngina</th>\n",
       "      <th>Oldpeak</th>\n",
       "      <th>ST_Slope</th>\n",
       "      <th>HeartDisease</th>\n",
       "    </tr>\n",
       "  </thead>\n",
       "  <tbody>\n",
       "    <tr>\n",
       "      <th>0</th>\n",
       "      <td>40</td>\n",
       "      <td>M</td>\n",
       "      <td>ATA</td>\n",
       "      <td>140</td>\n",
       "      <td>289</td>\n",
       "      <td>0</td>\n",
       "      <td>Normal</td>\n",
       "      <td>172</td>\n",
       "      <td>N</td>\n",
       "      <td>0.0</td>\n",
       "      <td>Up</td>\n",
       "      <td>0</td>\n",
       "    </tr>\n",
       "    <tr>\n",
       "      <th>1</th>\n",
       "      <td>49</td>\n",
       "      <td>F</td>\n",
       "      <td>NAP</td>\n",
       "      <td>160</td>\n",
       "      <td>180</td>\n",
       "      <td>0</td>\n",
       "      <td>Normal</td>\n",
       "      <td>156</td>\n",
       "      <td>N</td>\n",
       "      <td>1.0</td>\n",
       "      <td>Flat</td>\n",
       "      <td>1</td>\n",
       "    </tr>\n",
       "    <tr>\n",
       "      <th>2</th>\n",
       "      <td>37</td>\n",
       "      <td>M</td>\n",
       "      <td>ATA</td>\n",
       "      <td>130</td>\n",
       "      <td>283</td>\n",
       "      <td>0</td>\n",
       "      <td>ST</td>\n",
       "      <td>98</td>\n",
       "      <td>N</td>\n",
       "      <td>0.0</td>\n",
       "      <td>Up</td>\n",
       "      <td>0</td>\n",
       "    </tr>\n",
       "    <tr>\n",
       "      <th>3</th>\n",
       "      <td>48</td>\n",
       "      <td>F</td>\n",
       "      <td>ASY</td>\n",
       "      <td>138</td>\n",
       "      <td>214</td>\n",
       "      <td>0</td>\n",
       "      <td>Normal</td>\n",
       "      <td>108</td>\n",
       "      <td>Y</td>\n",
       "      <td>1.5</td>\n",
       "      <td>Flat</td>\n",
       "      <td>1</td>\n",
       "    </tr>\n",
       "    <tr>\n",
       "      <th>4</th>\n",
       "      <td>54</td>\n",
       "      <td>M</td>\n",
       "      <td>NAP</td>\n",
       "      <td>150</td>\n",
       "      <td>195</td>\n",
       "      <td>0</td>\n",
       "      <td>Normal</td>\n",
       "      <td>122</td>\n",
       "      <td>N</td>\n",
       "      <td>0.0</td>\n",
       "      <td>Up</td>\n",
       "      <td>0</td>\n",
       "    </tr>\n",
       "    <tr>\n",
       "      <th>5</th>\n",
       "      <td>39</td>\n",
       "      <td>M</td>\n",
       "      <td>NAP</td>\n",
       "      <td>120</td>\n",
       "      <td>339</td>\n",
       "      <td>0</td>\n",
       "      <td>Normal</td>\n",
       "      <td>170</td>\n",
       "      <td>N</td>\n",
       "      <td>0.0</td>\n",
       "      <td>Up</td>\n",
       "      <td>0</td>\n",
       "    </tr>\n",
       "    <tr>\n",
       "      <th>6</th>\n",
       "      <td>45</td>\n",
       "      <td>F</td>\n",
       "      <td>ATA</td>\n",
       "      <td>130</td>\n",
       "      <td>237</td>\n",
       "      <td>0</td>\n",
       "      <td>Normal</td>\n",
       "      <td>170</td>\n",
       "      <td>N</td>\n",
       "      <td>0.0</td>\n",
       "      <td>Up</td>\n",
       "      <td>0</td>\n",
       "    </tr>\n",
       "    <tr>\n",
       "      <th>7</th>\n",
       "      <td>54</td>\n",
       "      <td>M</td>\n",
       "      <td>ATA</td>\n",
       "      <td>110</td>\n",
       "      <td>208</td>\n",
       "      <td>0</td>\n",
       "      <td>Normal</td>\n",
       "      <td>142</td>\n",
       "      <td>N</td>\n",
       "      <td>0.0</td>\n",
       "      <td>Up</td>\n",
       "      <td>0</td>\n",
       "    </tr>\n",
       "    <tr>\n",
       "      <th>8</th>\n",
       "      <td>37</td>\n",
       "      <td>M</td>\n",
       "      <td>ASY</td>\n",
       "      <td>140</td>\n",
       "      <td>207</td>\n",
       "      <td>0</td>\n",
       "      <td>Normal</td>\n",
       "      <td>130</td>\n",
       "      <td>Y</td>\n",
       "      <td>1.5</td>\n",
       "      <td>Flat</td>\n",
       "      <td>1</td>\n",
       "    </tr>\n",
       "    <tr>\n",
       "      <th>9</th>\n",
       "      <td>48</td>\n",
       "      <td>F</td>\n",
       "      <td>ATA</td>\n",
       "      <td>120</td>\n",
       "      <td>284</td>\n",
       "      <td>0</td>\n",
       "      <td>Normal</td>\n",
       "      <td>120</td>\n",
       "      <td>N</td>\n",
       "      <td>0.0</td>\n",
       "      <td>Up</td>\n",
       "      <td>0</td>\n",
       "    </tr>\n",
       "  </tbody>\n",
       "</table>\n",
       "</div>"
      ],
      "text/plain": [
       "   Age Sex ChestPainType  RestingBP  Cholesterol  FastingBS RestingECG  MaxHR  \\\n",
       "0   40   M           ATA        140          289          0     Normal    172   \n",
       "1   49   F           NAP        160          180          0     Normal    156   \n",
       "2   37   M           ATA        130          283          0         ST     98   \n",
       "3   48   F           ASY        138          214          0     Normal    108   \n",
       "4   54   M           NAP        150          195          0     Normal    122   \n",
       "5   39   M           NAP        120          339          0     Normal    170   \n",
       "6   45   F           ATA        130          237          0     Normal    170   \n",
       "7   54   M           ATA        110          208          0     Normal    142   \n",
       "8   37   M           ASY        140          207          0     Normal    130   \n",
       "9   48   F           ATA        120          284          0     Normal    120   \n",
       "\n",
       "  ExerciseAngina  Oldpeak ST_Slope  HeartDisease  \n",
       "0              N      0.0       Up             0  \n",
       "1              N      1.0     Flat             1  \n",
       "2              N      0.0       Up             0  \n",
       "3              Y      1.5     Flat             1  \n",
       "4              N      0.0       Up             0  \n",
       "5              N      0.0       Up             0  \n",
       "6              N      0.0       Up             0  \n",
       "7              N      0.0       Up             0  \n",
       "8              Y      1.5     Flat             1  \n",
       "9              N      0.0       Up             0  "
      ]
     },
     "execution_count": 56,
     "metadata": {},
     "output_type": "execute_result"
    }
   ],
   "source": [
    "df.head(10)"
   ]
  },
  {
   "cell_type": "code",
   "execution_count": 57,
   "id": "e006c779",
   "metadata": {},
   "outputs": [
    {
     "data": {
      "text/plain": [
       "array(['Normal', 'ST', 'LVH'], dtype=object)"
      ]
     },
     "execution_count": 57,
     "metadata": {},
     "output_type": "execute_result"
    }
   ],
   "source": [
    "df['RestingECG'].unique()"
   ]
  },
  {
   "cell_type": "code",
   "execution_count": 58,
   "id": "91267aa5",
   "metadata": {},
   "outputs": [
    {
     "data": {
      "text/plain": [
       "array(['N', 'Y'], dtype=object)"
      ]
     },
     "execution_count": 58,
     "metadata": {},
     "output_type": "execute_result"
    }
   ],
   "source": [
    "df['ExerciseAngina'].unique()"
   ]
  },
  {
   "cell_type": "code",
   "execution_count": 59,
   "id": "3c1f8f85",
   "metadata": {},
   "outputs": [
    {
     "data": {
      "text/plain": [
       "array([0, 1], dtype=int64)"
      ]
     },
     "execution_count": 59,
     "metadata": {},
     "output_type": "execute_result"
    }
   ],
   "source": [
    "df['FastingBS'].unique()"
   ]
  },
  {
   "cell_type": "code",
   "execution_count": 60,
   "id": "7b1a213d",
   "metadata": {},
   "outputs": [
    {
     "data": {
      "text/plain": [
       "array(['Up', 'Flat', 'Down'], dtype=object)"
      ]
     },
     "execution_count": 60,
     "metadata": {},
     "output_type": "execute_result"
    }
   ],
   "source": [
    "df['ST_Slope'].unique()"
   ]
  },
  {
   "cell_type": "code",
   "execution_count": 61,
   "id": "7739002e",
   "metadata": {},
   "outputs": [
    {
     "data": {
      "text/html": [
       "<div>\n",
       "<style scoped>\n",
       "    .dataframe tbody tr th:only-of-type {\n",
       "        vertical-align: middle;\n",
       "    }\n",
       "\n",
       "    .dataframe tbody tr th {\n",
       "        vertical-align: top;\n",
       "    }\n",
       "\n",
       "    .dataframe thead th {\n",
       "        text-align: right;\n",
       "    }\n",
       "</style>\n",
       "<table border=\"1\" class=\"dataframe\">\n",
       "  <thead>\n",
       "    <tr style=\"text-align: right;\">\n",
       "      <th></th>\n",
       "      <th>Age</th>\n",
       "      <th>Sex</th>\n",
       "      <th>RestingBP</th>\n",
       "      <th>Cholesterol</th>\n",
       "      <th>FastingBS</th>\n",
       "      <th>MaxHR</th>\n",
       "      <th>ExerciseAngina</th>\n",
       "      <th>Oldpeak</th>\n",
       "      <th>HeartDisease</th>\n",
       "      <th>RestingECG_LVH</th>\n",
       "      <th>RestingECG_Normal</th>\n",
       "      <th>RestingECG_ST</th>\n",
       "      <th>ST_Slope_Down</th>\n",
       "      <th>ST_Slope_Flat</th>\n",
       "      <th>ST_Slope_Up</th>\n",
       "      <th>ChestPainType_ASY</th>\n",
       "      <th>ChestPainType_ATA</th>\n",
       "      <th>ChestPainType_NAP</th>\n",
       "      <th>ChestPainType_TA</th>\n",
       "    </tr>\n",
       "  </thead>\n",
       "  <tbody>\n",
       "    <tr>\n",
       "      <th>0</th>\n",
       "      <td>40</td>\n",
       "      <td>M</td>\n",
       "      <td>140</td>\n",
       "      <td>289</td>\n",
       "      <td>0</td>\n",
       "      <td>172</td>\n",
       "      <td>N</td>\n",
       "      <td>0.0</td>\n",
       "      <td>0</td>\n",
       "      <td>0</td>\n",
       "      <td>1</td>\n",
       "      <td>0</td>\n",
       "      <td>0</td>\n",
       "      <td>0</td>\n",
       "      <td>1</td>\n",
       "      <td>0</td>\n",
       "      <td>1</td>\n",
       "      <td>0</td>\n",
       "      <td>0</td>\n",
       "    </tr>\n",
       "    <tr>\n",
       "      <th>1</th>\n",
       "      <td>49</td>\n",
       "      <td>F</td>\n",
       "      <td>160</td>\n",
       "      <td>180</td>\n",
       "      <td>0</td>\n",
       "      <td>156</td>\n",
       "      <td>N</td>\n",
       "      <td>1.0</td>\n",
       "      <td>1</td>\n",
       "      <td>0</td>\n",
       "      <td>1</td>\n",
       "      <td>0</td>\n",
       "      <td>0</td>\n",
       "      <td>1</td>\n",
       "      <td>0</td>\n",
       "      <td>0</td>\n",
       "      <td>0</td>\n",
       "      <td>1</td>\n",
       "      <td>0</td>\n",
       "    </tr>\n",
       "    <tr>\n",
       "      <th>2</th>\n",
       "      <td>37</td>\n",
       "      <td>M</td>\n",
       "      <td>130</td>\n",
       "      <td>283</td>\n",
       "      <td>0</td>\n",
       "      <td>98</td>\n",
       "      <td>N</td>\n",
       "      <td>0.0</td>\n",
       "      <td>0</td>\n",
       "      <td>0</td>\n",
       "      <td>0</td>\n",
       "      <td>1</td>\n",
       "      <td>0</td>\n",
       "      <td>0</td>\n",
       "      <td>1</td>\n",
       "      <td>0</td>\n",
       "      <td>1</td>\n",
       "      <td>0</td>\n",
       "      <td>0</td>\n",
       "    </tr>\n",
       "    <tr>\n",
       "      <th>3</th>\n",
       "      <td>48</td>\n",
       "      <td>F</td>\n",
       "      <td>138</td>\n",
       "      <td>214</td>\n",
       "      <td>0</td>\n",
       "      <td>108</td>\n",
       "      <td>Y</td>\n",
       "      <td>1.5</td>\n",
       "      <td>1</td>\n",
       "      <td>0</td>\n",
       "      <td>1</td>\n",
       "      <td>0</td>\n",
       "      <td>0</td>\n",
       "      <td>1</td>\n",
       "      <td>0</td>\n",
       "      <td>1</td>\n",
       "      <td>0</td>\n",
       "      <td>0</td>\n",
       "      <td>0</td>\n",
       "    </tr>\n",
       "    <tr>\n",
       "      <th>4</th>\n",
       "      <td>54</td>\n",
       "      <td>M</td>\n",
       "      <td>150</td>\n",
       "      <td>195</td>\n",
       "      <td>0</td>\n",
       "      <td>122</td>\n",
       "      <td>N</td>\n",
       "      <td>0.0</td>\n",
       "      <td>0</td>\n",
       "      <td>0</td>\n",
       "      <td>1</td>\n",
       "      <td>0</td>\n",
       "      <td>0</td>\n",
       "      <td>0</td>\n",
       "      <td>1</td>\n",
       "      <td>0</td>\n",
       "      <td>0</td>\n",
       "      <td>1</td>\n",
       "      <td>0</td>\n",
       "    </tr>\n",
       "    <tr>\n",
       "      <th>...</th>\n",
       "      <td>...</td>\n",
       "      <td>...</td>\n",
       "      <td>...</td>\n",
       "      <td>...</td>\n",
       "      <td>...</td>\n",
       "      <td>...</td>\n",
       "      <td>...</td>\n",
       "      <td>...</td>\n",
       "      <td>...</td>\n",
       "      <td>...</td>\n",
       "      <td>...</td>\n",
       "      <td>...</td>\n",
       "      <td>...</td>\n",
       "      <td>...</td>\n",
       "      <td>...</td>\n",
       "      <td>...</td>\n",
       "      <td>...</td>\n",
       "      <td>...</td>\n",
       "      <td>...</td>\n",
       "    </tr>\n",
       "    <tr>\n",
       "      <th>913</th>\n",
       "      <td>45</td>\n",
       "      <td>M</td>\n",
       "      <td>110</td>\n",
       "      <td>264</td>\n",
       "      <td>0</td>\n",
       "      <td>132</td>\n",
       "      <td>N</td>\n",
       "      <td>1.2</td>\n",
       "      <td>1</td>\n",
       "      <td>0</td>\n",
       "      <td>1</td>\n",
       "      <td>0</td>\n",
       "      <td>0</td>\n",
       "      <td>1</td>\n",
       "      <td>0</td>\n",
       "      <td>0</td>\n",
       "      <td>0</td>\n",
       "      <td>0</td>\n",
       "      <td>1</td>\n",
       "    </tr>\n",
       "    <tr>\n",
       "      <th>914</th>\n",
       "      <td>68</td>\n",
       "      <td>M</td>\n",
       "      <td>144</td>\n",
       "      <td>193</td>\n",
       "      <td>1</td>\n",
       "      <td>141</td>\n",
       "      <td>N</td>\n",
       "      <td>3.4</td>\n",
       "      <td>1</td>\n",
       "      <td>0</td>\n",
       "      <td>1</td>\n",
       "      <td>0</td>\n",
       "      <td>0</td>\n",
       "      <td>1</td>\n",
       "      <td>0</td>\n",
       "      <td>1</td>\n",
       "      <td>0</td>\n",
       "      <td>0</td>\n",
       "      <td>0</td>\n",
       "    </tr>\n",
       "    <tr>\n",
       "      <th>915</th>\n",
       "      <td>57</td>\n",
       "      <td>M</td>\n",
       "      <td>130</td>\n",
       "      <td>131</td>\n",
       "      <td>0</td>\n",
       "      <td>115</td>\n",
       "      <td>Y</td>\n",
       "      <td>1.2</td>\n",
       "      <td>1</td>\n",
       "      <td>0</td>\n",
       "      <td>1</td>\n",
       "      <td>0</td>\n",
       "      <td>0</td>\n",
       "      <td>1</td>\n",
       "      <td>0</td>\n",
       "      <td>1</td>\n",
       "      <td>0</td>\n",
       "      <td>0</td>\n",
       "      <td>0</td>\n",
       "    </tr>\n",
       "    <tr>\n",
       "      <th>916</th>\n",
       "      <td>57</td>\n",
       "      <td>F</td>\n",
       "      <td>130</td>\n",
       "      <td>236</td>\n",
       "      <td>0</td>\n",
       "      <td>174</td>\n",
       "      <td>N</td>\n",
       "      <td>0.0</td>\n",
       "      <td>1</td>\n",
       "      <td>1</td>\n",
       "      <td>0</td>\n",
       "      <td>0</td>\n",
       "      <td>0</td>\n",
       "      <td>1</td>\n",
       "      <td>0</td>\n",
       "      <td>0</td>\n",
       "      <td>1</td>\n",
       "      <td>0</td>\n",
       "      <td>0</td>\n",
       "    </tr>\n",
       "    <tr>\n",
       "      <th>917</th>\n",
       "      <td>38</td>\n",
       "      <td>M</td>\n",
       "      <td>138</td>\n",
       "      <td>175</td>\n",
       "      <td>0</td>\n",
       "      <td>173</td>\n",
       "      <td>N</td>\n",
       "      <td>0.0</td>\n",
       "      <td>0</td>\n",
       "      <td>0</td>\n",
       "      <td>1</td>\n",
       "      <td>0</td>\n",
       "      <td>0</td>\n",
       "      <td>0</td>\n",
       "      <td>1</td>\n",
       "      <td>0</td>\n",
       "      <td>0</td>\n",
       "      <td>1</td>\n",
       "      <td>0</td>\n",
       "    </tr>\n",
       "  </tbody>\n",
       "</table>\n",
       "<p>918 rows × 19 columns</p>\n",
       "</div>"
      ],
      "text/plain": [
       "     Age Sex  RestingBP  Cholesterol  FastingBS  MaxHR ExerciseAngina  \\\n",
       "0     40   M        140          289          0    172              N   \n",
       "1     49   F        160          180          0    156              N   \n",
       "2     37   M        130          283          0     98              N   \n",
       "3     48   F        138          214          0    108              Y   \n",
       "4     54   M        150          195          0    122              N   \n",
       "..   ...  ..        ...          ...        ...    ...            ...   \n",
       "913   45   M        110          264          0    132              N   \n",
       "914   68   M        144          193          1    141              N   \n",
       "915   57   M        130          131          0    115              Y   \n",
       "916   57   F        130          236          0    174              N   \n",
       "917   38   M        138          175          0    173              N   \n",
       "\n",
       "     Oldpeak  HeartDisease  RestingECG_LVH  RestingECG_Normal  RestingECG_ST  \\\n",
       "0        0.0             0               0                  1              0   \n",
       "1        1.0             1               0                  1              0   \n",
       "2        0.0             0               0                  0              1   \n",
       "3        1.5             1               0                  1              0   \n",
       "4        0.0             0               0                  1              0   \n",
       "..       ...           ...             ...                ...            ...   \n",
       "913      1.2             1               0                  1              0   \n",
       "914      3.4             1               0                  1              0   \n",
       "915      1.2             1               0                  1              0   \n",
       "916      0.0             1               1                  0              0   \n",
       "917      0.0             0               0                  1              0   \n",
       "\n",
       "     ST_Slope_Down  ST_Slope_Flat  ST_Slope_Up  ChestPainType_ASY  \\\n",
       "0                0              0            1                  0   \n",
       "1                0              1            0                  0   \n",
       "2                0              0            1                  0   \n",
       "3                0              1            0                  1   \n",
       "4                0              0            1                  0   \n",
       "..             ...            ...          ...                ...   \n",
       "913              0              1            0                  0   \n",
       "914              0              1            0                  1   \n",
       "915              0              1            0                  1   \n",
       "916              0              1            0                  0   \n",
       "917              0              0            1                  0   \n",
       "\n",
       "     ChestPainType_ATA  ChestPainType_NAP  ChestPainType_TA  \n",
       "0                    1                  0                 0  \n",
       "1                    0                  1                 0  \n",
       "2                    1                  0                 0  \n",
       "3                    0                  0                 0  \n",
       "4                    0                  1                 0  \n",
       "..                 ...                ...               ...  \n",
       "913                  0                  0                 1  \n",
       "914                  0                  0                 0  \n",
       "915                  0                  0                 0  \n",
       "916                  1                  0                 0  \n",
       "917                  0                  1                 0  \n",
       "\n",
       "[918 rows x 19 columns]"
      ]
     },
     "execution_count": 61,
     "metadata": {},
     "output_type": "execute_result"
    }
   ],
   "source": [
    "df=pd.get_dummies(data=df,columns=['RestingECG','ST_Slope','ChestPainType'])\n",
    "df"
   ]
  },
  {
   "cell_type": "code",
   "execution_count": null,
   "id": "1ec2b38a",
   "metadata": {},
   "outputs": [],
   "source": []
  },
  {
   "cell_type": "code",
   "execution_count": 62,
   "id": "eacb088b",
   "metadata": {},
   "outputs": [],
   "source": [
    "from sklearn.preprocessing import LabelEncoder\n",
    "le=LabelEncoder()\n",
    "\n",
    "df['Sex']=le.fit_transform(df['Sex'])\n"
   ]
  },
  {
   "cell_type": "code",
   "execution_count": 63,
   "id": "44bc785c",
   "metadata": {},
   "outputs": [],
   "source": [
    "df['ExerciseAngina']=le.fit_transform(df['ExerciseAngina'])"
   ]
  },
  {
   "cell_type": "code",
   "execution_count": 64,
   "id": "64842541",
   "metadata": {},
   "outputs": [],
   "source": [
    "X=df.drop(['Cholesterol'],axis=True)"
   ]
  },
  {
   "cell_type": "code",
   "execution_count": 73,
   "id": "2cdc0472",
   "metadata": {},
   "outputs": [],
   "source": [
    "y=df['Cholesterol']"
   ]
  },
  {
   "cell_type": "code",
   "execution_count": 74,
   "id": "6a0c0d2e",
   "metadata": {},
   "outputs": [
    {
     "data": {
      "text/plain": [
       "0      289\n",
       "1      180\n",
       "2      283\n",
       "3      214\n",
       "4      195\n",
       "      ... \n",
       "913    264\n",
       "914    193\n",
       "915    131\n",
       "916    236\n",
       "917    175\n",
       "Name: Cholesterol, Length: 918, dtype: int64"
      ]
     },
     "execution_count": 74,
     "metadata": {},
     "output_type": "execute_result"
    }
   ],
   "source": [
    "y"
   ]
  },
  {
   "cell_type": "code",
   "execution_count": 75,
   "id": "95151241",
   "metadata": {},
   "outputs": [
    {
     "data": {
      "text/plain": [
       "Age                  0\n",
       "Sex                  0\n",
       "RestingBP            0\n",
       "Cholesterol          0\n",
       "FastingBS            0\n",
       "MaxHR                0\n",
       "ExerciseAngina       0\n",
       "Oldpeak              0\n",
       "HeartDisease         0\n",
       "RestingECG_LVH       0\n",
       "RestingECG_Normal    0\n",
       "RestingECG_ST        0\n",
       "ST_Slope_Down        0\n",
       "ST_Slope_Flat        0\n",
       "ST_Slope_Up          0\n",
       "ChestPainType_ASY    0\n",
       "ChestPainType_ATA    0\n",
       "ChestPainType_NAP    0\n",
       "ChestPainType_TA     0\n",
       "dtype: int64"
      ]
     },
     "execution_count": 75,
     "metadata": {},
     "output_type": "execute_result"
    }
   ],
   "source": [
    "df.isnull().sum()"
   ]
  },
  {
   "cell_type": "code",
   "execution_count": 76,
   "id": "c2295b24",
   "metadata": {},
   "outputs": [
    {
     "data": {
      "text/plain": [
       "array([[ 40.,   1., 140., ...,   1.,   0.,   0.],\n",
       "       [ 49.,   0., 160., ...,   0.,   1.,   0.],\n",
       "       [ 37.,   1., 130., ...,   1.,   0.,   0.],\n",
       "       ...,\n",
       "       [ 57.,   1., 130., ...,   0.,   0.,   0.],\n",
       "       [ 57.,   0., 130., ...,   1.,   0.,   0.],\n",
       "       [ 38.,   1., 138., ...,   0.,   1.,   0.]])"
      ]
     },
     "execution_count": 76,
     "metadata": {},
     "output_type": "execute_result"
    }
   ],
   "source": [
    "X.values"
   ]
  },
  {
   "cell_type": "code",
   "execution_count": 77,
   "id": "1fb5cd12",
   "metadata": {},
   "outputs": [
    {
     "data": {
      "text/plain": [
       "Age                    int64\n",
       "Sex                    int32\n",
       "RestingBP              int64\n",
       "FastingBS              int64\n",
       "MaxHR                  int64\n",
       "ExerciseAngina         int32\n",
       "Oldpeak              float64\n",
       "HeartDisease           int64\n",
       "RestingECG_LVH         uint8\n",
       "RestingECG_Normal      uint8\n",
       "RestingECG_ST          uint8\n",
       "ST_Slope_Down          uint8\n",
       "ST_Slope_Flat          uint8\n",
       "ST_Slope_Up            uint8\n",
       "ChestPainType_ASY      uint8\n",
       "ChestPainType_ATA      uint8\n",
       "ChestPainType_NAP      uint8\n",
       "ChestPainType_TA       uint8\n",
       "dtype: object"
      ]
     },
     "execution_count": 77,
     "metadata": {},
     "output_type": "execute_result"
    }
   ],
   "source": [
    "X.dtypes"
   ]
  },
  {
   "cell_type": "code",
   "execution_count": 78,
   "id": "3c2e4fb7",
   "metadata": {},
   "outputs": [
    {
     "data": {
      "text/plain": [
       "array([289, 180, 283, 214, 195, 339, 237, 208, 207, 284, 211, 164, 204,\n",
       "       234, 211, 273, 196, 201, 248, 267, 223, 184, 201, 288, 215, 209,\n",
       "       260, 284, 468, 188, 518, 167, 224, 172, 186, 254, 306, 250, 177,\n",
       "       227, 230, 294, 264, 259, 175, 318, 223, 216, 340, 289, 233, 205,\n",
       "       224, 245, 180, 194, 270, 213, 365, 342, 253, 254, 224, 277, 202,\n",
       "       260, 297, 225, 246, 412, 265, 215, 182, 218, 268, 163, 529, 167,\n",
       "       100, 206, 277, 238, 223, 196, 213, 139, 263, 216, 291, 229, 208,\n",
       "       307, 210, 329, 182, 263, 207, 147,  85, 269, 275, 179, 392, 466,\n",
       "       186, 260, 254, 214, 129, 241, 188, 255, 276, 297, 207, 246, 282,\n",
       "       338, 160, 156, 248, 272, 240, 393, 230, 246, 161, 163, 230, 228,\n",
       "       292, 202, 388, 230, 294, 265, 215, 241, 166, 247, 331, 341, 291,\n",
       "       243, 279, 273, 198, 249, 168, 603, 215, 159, 275, 270, 291, 342,\n",
       "       190, 185, 290, 195, 264, 212, 263, 196, 225, 272, 231, 238, 222,\n",
       "       179, 243, 235, 320, 187, 266, 288, 216, 287, 194, 238, 225, 224,\n",
       "       404, 238, 312, 211, 251, 237, 328, 285, 280, 209, 245, 192, 184,\n",
       "       193, 297, 268, 246, 308, 249, 230, 147, 219, 184, 215, 308, 257,\n",
       "       132, 216, 263, 288, 276, 219, 226, 237, 280, 217, 196, 263, 222,\n",
       "       303, 195, 298, 256, 264, 195, 117, 295, 173, 315, 281, 275, 250,\n",
       "       309, 200, 336, 295, 355, 193, 326, 198, 292, 266, 268, 171, 237,\n",
       "       275, 219, 341, 491, 260, 292, 271, 248, 274, 394, 160, 200, 320,\n",
       "       275, 221, 231, 126, 193, 305, 298, 220, 242, 235, 225, 198, 201,\n",
       "       220, 295, 213, 160, 223, 347, 253, 246, 222, 220, 344, 358, 190,\n",
       "       169, 181, 308, 166, 211, 257, 182,   0,   0,   0,   0,   0,   0,\n",
       "         0,   0,   0,   0,   0,   0,   0,   0,   0,   0,   0,   0,   0,\n",
       "         0,   0,   0,   0,   0,   0,   0,   0,   0,   0,   0,   0,   0,\n",
       "         0,   0,   0,   0,   0,   0,   0,   0,   0,   0,   0,   0,   0,\n",
       "         0,   0,   0,   0,   0,   0,   0,   0,   0,   0,   0,   0,   0,\n",
       "         0,   0,   0,   0,   0,   0,   0,   0,   0,   0,   0,   0,   0,\n",
       "         0,   0,   0,   0,   0,   0,   0,   0,   0,   0,   0,   0,   0,\n",
       "         0,   0,   0,   0,   0,   0,   0,   0,   0,   0,   0,   0,   0,\n",
       "         0,   0,   0,   0,   0,   0,   0,   0,   0,   0,   0,   0,   0,\n",
       "         0,   0,   0,   0,   0,   0,   0,   0,   0,   0,   0,   0,   0,\n",
       "       260, 209, 218, 228, 213,   0, 236,   0,   0, 267, 166,   0,   0,\n",
       "         0,   0, 220, 177, 236,   0,   0,   0,   0,   0,   0,   0,   0,\n",
       "         0, 186, 100, 228,   0, 171, 230,   0,   0,   0, 281,   0, 203,\n",
       "         0,   0,   0,   0,   0, 277,   0, 233,   0,   0, 240,   0,   0,\n",
       "       153, 224,   0,   0,   0, 316,   0,   0, 218,   0, 311,   0,   0,\n",
       "         0, 270,   0,   0, 217, 214, 214, 252, 220, 214, 203,   0, 339,\n",
       "       216, 276, 458, 241, 384, 297, 248, 308, 208, 227, 210, 245, 225,\n",
       "       240,   0, 198, 195, 267, 161, 258,   0,   0, 195, 235,   0, 305,\n",
       "       223, 282, 349, 160, 160, 236, 312, 283, 142, 211, 218, 306, 186,\n",
       "       252, 222,   0,   0, 258, 202, 197, 204, 113, 274, 192, 298, 272,\n",
       "       220, 200, 261, 181, 260, 220, 221, 216, 175, 219, 310, 208, 232,\n",
       "       273, 203, 182, 274, 204, 270, 292, 171, 221, 289, 217, 223, 110,\n",
       "       193, 123, 210, 282, 170, 369, 173, 289, 152, 208, 216, 271, 244,\n",
       "       285, 243, 240, 219, 237, 165, 213, 287, 258, 256, 186, 264, 185,\n",
       "       226, 203, 207, 284, 337, 310, 254, 258, 254, 300, 170, 310, 333,\n",
       "       139, 223, 385, 254, 322, 564, 261, 263, 269, 177, 256, 239, 293,\n",
       "       407, 234, 226, 235, 234, 303, 149, 311, 203, 211, 199, 229, 245,\n",
       "       303, 204, 288, 275, 243, 295, 230, 265, 229, 228, 215, 326, 200,\n",
       "       256, 207, 273, 180, 222, 223, 209, 233, 197, 218, 211, 149, 197,\n",
       "       246, 225, 315, 205, 417, 195, 234, 198, 166, 178, 249, 281, 126,\n",
       "       305, 226, 240, 233, 276, 261, 319, 242, 243, 260, 354, 245, 197,\n",
       "       223, 309, 208, 199, 209, 236, 218, 198, 270, 214, 201, 244, 208,\n",
       "       270, 306, 243, 221, 330, 266, 206, 212, 275, 302, 234, 313, 244,\n",
       "       141, 237, 269, 289, 254, 274, 222, 258, 177, 160, 327, 235, 305,\n",
       "       304, 295, 271, 249, 288, 226, 283, 188, 286, 274, 360, 273, 201,\n",
       "       267, 196, 201, 230, 269, 212, 226, 246, 232, 177, 277, 249, 210,\n",
       "       207, 212, 271, 233, 213, 283, 282, 230, 167, 224, 268, 250, 219,\n",
       "       267, 303, 256, 204, 217, 308, 193, 228, 231, 244, 262, 259, 211,\n",
       "       325, 254, 197, 236, 282, 234, 254, 299, 211, 182, 294, 298, 231,\n",
       "       254, 196, 240, 409, 172, 265, 246, 315, 184, 233, 394, 269, 239,\n",
       "       174, 309, 282, 255, 250, 248, 214, 239, 304, 277, 300, 258, 299,\n",
       "       289, 298, 318, 240, 309, 250, 288, 245, 213, 216, 204, 204, 252,\n",
       "       227, 258, 220, 239, 254, 168, 330, 183, 203, 263, 341, 283, 186,\n",
       "       307, 219, 260, 255, 231, 164, 234, 177, 257, 325, 274, 321, 264,\n",
       "       268, 308, 253, 248, 269, 185, 282, 188, 219, 290, 175, 212, 302,\n",
       "       243, 353, 335, 247, 340, 206, 284, 266, 229, 199, 263, 294, 192,\n",
       "       286, 216, 223, 247, 204, 204, 227, 278, 220, 232, 197, 335, 253,\n",
       "       205, 192, 203, 318, 225, 220, 221, 240, 212, 342, 169, 187, 197,\n",
       "       157, 176, 241, 264, 193, 131, 236, 175], dtype=int64)"
      ]
     },
     "execution_count": 78,
     "metadata": {},
     "output_type": "execute_result"
    }
   ],
   "source": [
    "y.values"
   ]
  },
  {
   "cell_type": "code",
   "execution_count": 79,
   "id": "e5f5b4c9",
   "metadata": {},
   "outputs": [],
   "source": [
    "from sklearn.model_selection import train_test_split"
   ]
  },
  {
   "cell_type": "code",
   "execution_count": 80,
   "id": "557b9866",
   "metadata": {},
   "outputs": [],
   "source": [
    "X_train,X_test,y_train,y_test=train_test_split(X,y,test_size=0.2,random_state=0)"
   ]
  },
  {
   "cell_type": "code",
   "execution_count": 83,
   "id": "46db3976",
   "metadata": {},
   "outputs": [],
   "source": [
    "from sklearn.preprocessing import StandardScaler\n",
    "scaler=StandardScaler()\n",
    "X_train=scaler.fit_transform(X_train)\n",
    "X_test=scaler.fit_transform(X_test)"
   ]
  },
  {
   "cell_type": "code",
   "execution_count": 87,
   "id": "72017c94",
   "metadata": {},
   "outputs": [
    {
     "name": "stderr",
     "output_type": "stream",
     "text": [
      "C:\\ProgramData\\Anaconda3\\lib\\site-packages\\sklearn\\linear_model\\_logistic.py:814: ConvergenceWarning: lbfgs failed to converge (status=1):\n",
      "STOP: TOTAL NO. of ITERATIONS REACHED LIMIT.\n",
      "\n",
      "Increase the number of iterations (max_iter) or scale the data as shown in:\n",
      "    https://scikit-learn.org/stable/modules/preprocessing.html\n",
      "Please also refer to the documentation for alternative solver options:\n",
      "    https://scikit-learn.org/stable/modules/linear_model.html#logistic-regression\n",
      "  n_iter_i = _check_optimize_result(\n"
     ]
    },
    {
     "data": {
      "text/plain": [
       "LogisticRegression(random_state=0)"
      ]
     },
     "execution_count": 87,
     "metadata": {},
     "output_type": "execute_result"
    }
   ],
   "source": [
    "from sklearn.linear_model import LogisticRegression\n",
    "reg=LogisticRegression(random_state=0)\n",
    "reg.fit(X_train,y_train)"
   ]
  },
  {
   "cell_type": "code",
   "execution_count": 88,
   "id": "5a550574",
   "metadata": {},
   "outputs": [],
   "source": [
    "y_pred=reg.predict(X_test)"
   ]
  },
  {
   "cell_type": "code",
   "execution_count": 90,
   "id": "9e2753ad",
   "metadata": {},
   "outputs": [
    {
     "data": {
      "text/plain": [
       "array([[35,  0,  0, ...,  0,  0,  0],\n",
       "       [ 0,  0,  0, ...,  0,  0,  0],\n",
       "       [ 1,  0,  0, ...,  0,  0,  0],\n",
       "       ...,\n",
       "       [ 0,  0,  0, ...,  0,  0,  0],\n",
       "       [ 1,  0,  0, ...,  0,  0,  0],\n",
       "       [ 1,  0,  0, ...,  0,  0,  0]], dtype=int64)"
      ]
     },
     "execution_count": 90,
     "metadata": {},
     "output_type": "execute_result"
    }
   ],
   "source": [
    "from sklearn.metrics import confusion_matrix,accuracy_score\n",
    "confusion_matrix(y_test,y_pred)"
   ]
  },
  {
   "cell_type": "code",
   "execution_count": 95,
   "id": "3ebf5033",
   "metadata": {},
   "outputs": [
    {
     "data": {
      "text/plain": [
       "0.19021739130434784"
      ]
     },
     "execution_count": 95,
     "metadata": {},
     "output_type": "execute_result"
    }
   ],
   "source": [
    "accuracy_score(y_test,y_pred)"
   ]
  },
  {
   "cell_type": "code",
   "execution_count": 100,
   "id": "71fc37d1",
   "metadata": {},
   "outputs": [],
   "source": [
    "from sklearn.neighbors import KNeighborsClassifier"
   ]
  },
  {
   "cell_type": "code",
   "execution_count": 103,
   "id": "4d6a1a66",
   "metadata": {},
   "outputs": [
    {
     "data": {
      "text/plain": [
       "KNeighborsClassifier()"
      ]
     },
     "execution_count": 103,
     "metadata": {},
     "output_type": "execute_result"
    }
   ],
   "source": [
    "knn=KNeighborsClassifier(n_neighbors=5,metric='minkowski',p=2)\n",
    "knn.fit(X_train,y_train)"
   ]
  },
  {
   "cell_type": "code",
   "execution_count": 104,
   "id": "93b19068",
   "metadata": {},
   "outputs": [],
   "source": [
    "yk_pred=knn.predict(X_test)"
   ]
  },
  {
   "cell_type": "code",
   "execution_count": 105,
   "id": "29dc986d",
   "metadata": {},
   "outputs": [
    {
     "data": {
      "text/plain": [
       "array([[32,  0,  1, ...,  0,  0,  0],\n",
       "       [ 0,  0,  0, ...,  0,  0,  0],\n",
       "       [ 0,  0,  0, ...,  0,  0,  0],\n",
       "       ...,\n",
       "       [ 0,  0,  0, ...,  0,  0,  0],\n",
       "       [ 1,  0,  0, ...,  0,  0,  0],\n",
       "       [ 1,  0,  0, ...,  0,  0,  0]], dtype=int64)"
      ]
     },
     "execution_count": 105,
     "metadata": {},
     "output_type": "execute_result"
    }
   ],
   "source": [
    "confusion_matrix(y_test,yk_pred)"
   ]
  },
  {
   "cell_type": "code",
   "execution_count": 106,
   "id": "5822b26f",
   "metadata": {},
   "outputs": [
    {
     "data": {
      "text/plain": [
       "0.17391304347826086"
      ]
     },
     "execution_count": 106,
     "metadata": {},
     "output_type": "execute_result"
    }
   ],
   "source": [
    "accuracy_score(y_test,yk_pred)"
   ]
  },
  {
   "cell_type": "code",
   "execution_count": 107,
   "id": "9751cb2b",
   "metadata": {},
   "outputs": [],
   "source": [
    "from sklearn.svm import SVC"
   ]
  },
  {
   "cell_type": "code",
   "execution_count": 111,
   "id": "9fcae431",
   "metadata": {},
   "outputs": [],
   "source": [
    "sv=SVC(kernel='rbf',random_state=0)\n",
    "sv.fit(X_train,y_train)\n",
    "ysv_pred=sv.predict(X_test)"
   ]
  },
  {
   "cell_type": "code",
   "execution_count": 112,
   "id": "2f4b81b7",
   "metadata": {},
   "outputs": [
    {
     "data": {
      "text/plain": [
       "0.21195652173913043"
      ]
     },
     "execution_count": 112,
     "metadata": {},
     "output_type": "execute_result"
    }
   ],
   "source": [
    "confusion_matrix(y_test,ysv_pred)\n",
    "accuracy_score(y_test,ysv_pred)"
   ]
  },
  {
   "cell_type": "code",
   "execution_count": null,
   "id": "4f98a3ac",
   "metadata": {},
   "outputs": [],
   "source": []
  }
 ],
 "metadata": {
  "kernelspec": {
   "display_name": "Python 3 (ipykernel)",
   "language": "python",
   "name": "python3"
  },
  "language_info": {
   "codemirror_mode": {
    "name": "ipython",
    "version": 3
   },
   "file_extension": ".py",
   "mimetype": "text/x-python",
   "name": "python",
   "nbconvert_exporter": "python",
   "pygments_lexer": "ipython3",
   "version": "3.9.12"
  }
 },
 "nbformat": 4,
 "nbformat_minor": 5
}
